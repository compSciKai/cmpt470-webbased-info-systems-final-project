{
 "cells": [
  {
   "cell_type": "code",
   "execution_count": 89,
   "metadata": {
    "collapsed": true,
    "pycharm": {
     "is_executing": false
    }
   },
   "outputs": [],
   "source": [
    "import requests\n",
    "import pandas as pd\n",
    "import matplotlib.pyplot as plt"
   ]
  },
  {
   "cell_type": "code",
   "execution_count": 90,
   "outputs": [],
   "source": [
    "CANADA_TESTING_RATE = 'https://services1.arcgis.com/xeMpV7tU1t4KD3Ei/arcgis/rest/services/BC_COVID19__BC_Canadian_Testing_Rates_View/FeatureServer/0/query?f=json&where=1%3D1&returnGeometry=false&spatialRel=esriSpatialRelIntersects&outFields=*&outStatistics=%5B%7B%22statisticType%22%3A%22max%22%2C%22onStatisticField%22%3A%22F_Can_Test_Rate%22%2C%22outStatisticFieldName%22%3A%22value%22%7D%5D&resultType=standard&cacheHint=true'"
   ],
   "metadata": {
    "collapsed": false,
    "pycharm": {
     "name": "#%%\n",
     "is_executing": false
    }
   }
  },
  {
   "cell_type": "markdown",
   "source": [
    "### Testing rates"
   ],
   "metadata": {
    "collapsed": false,
    "pycharm": {
     "name": "#%% md\n",
     "is_executing": false
    }
   }
  },
  {
   "cell_type": "code",
   "execution_count": 91,
   "outputs": [
    {
     "data": {
      "text/plain": "                   Date             Region  New_Tests  Total_Tests  \\\n0   2020-10-15 07:00:00             Fraser       4665       265386   \n1   2020-10-15 07:00:00           Interior        709        82347   \n2   2020-10-15 07:00:00           Northern        251        25618   \n3   2020-10-15 07:00:00            Unknown        163        12327   \n4   2020-10-15 07:00:00  Vancouver Coastal       3777       232369   \n..                  ...                ...        ...          ...   \n995 2020-05-03 07:00:00   Vancouver Island        382        14487   \n996 2020-05-02 07:00:00             Fraser        929        35130   \n997 2020-05-02 07:00:00           Interior        411        13434   \n998 2020-05-02 07:00:00           Northern        164         4065   \n999 2020-05-02 07:00:00            Unknown         21         1197   \n\n    Testing_Rate  Positivity  Turn_Around  ObjectId  \n0           None        1.93           35      1657  \n1           None        0.42           22      1658  \n2           None        1.59           33      1659  \n3           None        0.00           37      1660  \n4           None        1.56           33      1661  \n..           ...         ...          ...       ...  \n995         None        0.00           22       416  \n996         None        2.26           26       789  \n997         None        0.49           32       792  \n998         None        1.83           30       794  \n999         None        0.00           18       796  \n\n[1000 rows x 8 columns]",
      "text/html": "<div>\n<style scoped>\n    .dataframe tbody tr th:only-of-type {\n        vertical-align: middle;\n    }\n\n    .dataframe tbody tr th {\n        vertical-align: top;\n    }\n\n    .dataframe thead th {\n        text-align: right;\n    }\n</style>\n<table border=\"1\" class=\"dataframe\">\n  <thead>\n    <tr style=\"text-align: right;\">\n      <th></th>\n      <th>Date</th>\n      <th>Region</th>\n      <th>New_Tests</th>\n      <th>Total_Tests</th>\n      <th>Testing_Rate</th>\n      <th>Positivity</th>\n      <th>Turn_Around</th>\n      <th>ObjectId</th>\n    </tr>\n  </thead>\n  <tbody>\n    <tr>\n      <th>0</th>\n      <td>2020-10-15 07:00:00</td>\n      <td>Fraser</td>\n      <td>4665</td>\n      <td>265386</td>\n      <td>None</td>\n      <td>1.93</td>\n      <td>35</td>\n      <td>1657</td>\n    </tr>\n    <tr>\n      <th>1</th>\n      <td>2020-10-15 07:00:00</td>\n      <td>Interior</td>\n      <td>709</td>\n      <td>82347</td>\n      <td>None</td>\n      <td>0.42</td>\n      <td>22</td>\n      <td>1658</td>\n    </tr>\n    <tr>\n      <th>2</th>\n      <td>2020-10-15 07:00:00</td>\n      <td>Northern</td>\n      <td>251</td>\n      <td>25618</td>\n      <td>None</td>\n      <td>1.59</td>\n      <td>33</td>\n      <td>1659</td>\n    </tr>\n    <tr>\n      <th>3</th>\n      <td>2020-10-15 07:00:00</td>\n      <td>Unknown</td>\n      <td>163</td>\n      <td>12327</td>\n      <td>None</td>\n      <td>0.00</td>\n      <td>37</td>\n      <td>1660</td>\n    </tr>\n    <tr>\n      <th>4</th>\n      <td>2020-10-15 07:00:00</td>\n      <td>Vancouver Coastal</td>\n      <td>3777</td>\n      <td>232369</td>\n      <td>None</td>\n      <td>1.56</td>\n      <td>33</td>\n      <td>1661</td>\n    </tr>\n    <tr>\n      <th>...</th>\n      <td>...</td>\n      <td>...</td>\n      <td>...</td>\n      <td>...</td>\n      <td>...</td>\n      <td>...</td>\n      <td>...</td>\n      <td>...</td>\n    </tr>\n    <tr>\n      <th>995</th>\n      <td>2020-05-03 07:00:00</td>\n      <td>Vancouver Island</td>\n      <td>382</td>\n      <td>14487</td>\n      <td>None</td>\n      <td>0.00</td>\n      <td>22</td>\n      <td>416</td>\n    </tr>\n    <tr>\n      <th>996</th>\n      <td>2020-05-02 07:00:00</td>\n      <td>Fraser</td>\n      <td>929</td>\n      <td>35130</td>\n      <td>None</td>\n      <td>2.26</td>\n      <td>26</td>\n      <td>789</td>\n    </tr>\n    <tr>\n      <th>997</th>\n      <td>2020-05-02 07:00:00</td>\n      <td>Interior</td>\n      <td>411</td>\n      <td>13434</td>\n      <td>None</td>\n      <td>0.49</td>\n      <td>32</td>\n      <td>792</td>\n    </tr>\n    <tr>\n      <th>998</th>\n      <td>2020-05-02 07:00:00</td>\n      <td>Northern</td>\n      <td>164</td>\n      <td>4065</td>\n      <td>None</td>\n      <td>1.83</td>\n      <td>30</td>\n      <td>794</td>\n    </tr>\n    <tr>\n      <th>999</th>\n      <td>2020-05-02 07:00:00</td>\n      <td>Unknown</td>\n      <td>21</td>\n      <td>1197</td>\n      <td>None</td>\n      <td>0.00</td>\n      <td>18</td>\n      <td>796</td>\n    </tr>\n  </tbody>\n</table>\n<p>1000 rows × 8 columns</p>\n</div>"
     },
     "metadata": {},
     "output_type": "execute_result",
     "execution_count": 91
    }
   ],
   "source": [
    "params = {\n",
    "    'f': 'json',\n",
    "    'where': \"Region<>'BC'\",\n",
    "    'outFields': '*',\n",
    "    'orderByFields': 'Date desc',\n",
    "    'resultRecordCount': 32000,\n",
    "    'resultOffset': 0\n",
    "}\n",
    "q ='?f=json&where=Region%3C%3E%27BC%27&spatialRel=esriSpatialRelIntersects&outFields=ObjectId%2CNew_Tests%2CDate%2CTotal_Tests%2CRegion%2C&orderByFields=Date%20asc&resultOffset=0&resultRecordCount=32000'\n",
    "NEW_TESTS = 'https://services1.arcgis.com/xeMpV7tU1t4KD3Ei/arcgis/rest/services/BC_COVID19_Lab_Information/FeatureServer/0/query'\n",
    "result = requests.get(NEW_TESTS, params=params)\n",
    "\n",
    "data = result.json()['features']\n",
    "data = [row['attributes'] for row in data]\n",
    "\n",
    "df = pd.DataFrame(data)\n",
    "df['Date'] = pd.to_datetime(df['Date'], unit='ms')\n",
    "# df = df.sort_values(by='Date', ascending=False)\n",
    "df"
   ],
   "metadata": {
    "collapsed": false,
    "pycharm": {
     "name": "#%%\n",
     "is_executing": false
    }
   }
  },
  {
   "cell_type": "markdown",
   "source": [
    "### Case Details (Most Recent 1000)"
   ],
   "metadata": {
    "collapsed": false
   }
  },
  {
   "cell_type": "code",
   "execution_count": 104,
   "outputs": [
    {
     "data": {
      "text/plain": "          Reported_Date                 HA Sex Age_Group  ObjectId\n0   2020-10-16 07:00:00  Vancouver Coastal   U   Unknown     11122\n1   2020-10-16 07:00:00  Vancouver Coastal   U   Unknown     11124\n2   2020-10-16 07:00:00  Vancouver Coastal   U   Unknown     11126\n3   2020-10-16 07:00:00  Vancouver Coastal   U   Unknown     11128\n4   2020-10-16 07:00:00  Vancouver Coastal   U   Unknown     11130\n..                  ...                ...  ..       ...       ...\n995 2020-10-09 07:00:00  Vancouver Coastal   F     50-59     10394\n996 2020-10-09 07:00:00             Fraser   F     30-39     10395\n997 2020-10-09 07:00:00  Vancouver Coastal   M     50-59     10396\n998 2020-10-09 07:00:00             Fraser   M     20-29     10397\n999 2020-10-09 07:00:00             Fraser   F     20-29     10398\n\n[1000 rows x 5 columns]",
      "text/html": "<div>\n<style scoped>\n    .dataframe tbody tr th:only-of-type {\n        vertical-align: middle;\n    }\n\n    .dataframe tbody tr th {\n        vertical-align: top;\n    }\n\n    .dataframe thead th {\n        text-align: right;\n    }\n</style>\n<table border=\"1\" class=\"dataframe\">\n  <thead>\n    <tr style=\"text-align: right;\">\n      <th></th>\n      <th>Reported_Date</th>\n      <th>HA</th>\n      <th>Sex</th>\n      <th>Age_Group</th>\n      <th>ObjectId</th>\n    </tr>\n  </thead>\n  <tbody>\n    <tr>\n      <th>0</th>\n      <td>2020-10-16 07:00:00</td>\n      <td>Vancouver Coastal</td>\n      <td>U</td>\n      <td>Unknown</td>\n      <td>11122</td>\n    </tr>\n    <tr>\n      <th>1</th>\n      <td>2020-10-16 07:00:00</td>\n      <td>Vancouver Coastal</td>\n      <td>U</td>\n      <td>Unknown</td>\n      <td>11124</td>\n    </tr>\n    <tr>\n      <th>2</th>\n      <td>2020-10-16 07:00:00</td>\n      <td>Vancouver Coastal</td>\n      <td>U</td>\n      <td>Unknown</td>\n      <td>11126</td>\n    </tr>\n    <tr>\n      <th>3</th>\n      <td>2020-10-16 07:00:00</td>\n      <td>Vancouver Coastal</td>\n      <td>U</td>\n      <td>Unknown</td>\n      <td>11128</td>\n    </tr>\n    <tr>\n      <th>4</th>\n      <td>2020-10-16 07:00:00</td>\n      <td>Vancouver Coastal</td>\n      <td>U</td>\n      <td>Unknown</td>\n      <td>11130</td>\n    </tr>\n    <tr>\n      <th>...</th>\n      <td>...</td>\n      <td>...</td>\n      <td>...</td>\n      <td>...</td>\n      <td>...</td>\n    </tr>\n    <tr>\n      <th>995</th>\n      <td>2020-10-09 07:00:00</td>\n      <td>Vancouver Coastal</td>\n      <td>F</td>\n      <td>50-59</td>\n      <td>10394</td>\n    </tr>\n    <tr>\n      <th>996</th>\n      <td>2020-10-09 07:00:00</td>\n      <td>Fraser</td>\n      <td>F</td>\n      <td>30-39</td>\n      <td>10395</td>\n    </tr>\n    <tr>\n      <th>997</th>\n      <td>2020-10-09 07:00:00</td>\n      <td>Vancouver Coastal</td>\n      <td>M</td>\n      <td>50-59</td>\n      <td>10396</td>\n    </tr>\n    <tr>\n      <th>998</th>\n      <td>2020-10-09 07:00:00</td>\n      <td>Fraser</td>\n      <td>M</td>\n      <td>20-29</td>\n      <td>10397</td>\n    </tr>\n    <tr>\n      <th>999</th>\n      <td>2020-10-09 07:00:00</td>\n      <td>Fraser</td>\n      <td>F</td>\n      <td>20-29</td>\n      <td>10398</td>\n    </tr>\n  </tbody>\n</table>\n<p>1000 rows × 5 columns</p>\n</div>"
     },
     "metadata": {},
     "output_type": "execute_result",
     "execution_count": 104
    }
   ],
   "source": [
    "url = 'https://services1.arcgis.com/xeMpV7tU1t4KD3Ei/ArcGIS/rest/services/BC_COVID19_Dashboard_Case_Details_Production/FeatureServer/0/query'\n",
    "params = {\n",
    "    'f': 'json',\n",
    "    'where': \"1=1\",\n",
    "    'outFields': '*',\n",
    "    'orderByFields': 'Reported_Date desc',\n",
    "    'resultRecordCount': 32000,\n",
    "    'resultOffset': 0\n",
    "}\n",
    "result = requests.get(url, params=params)\n",
    "data = result.json()['features']\n",
    "data = [row['attributes'] for row in data]\n",
    "\n",
    "df = pd.DataFrame(data)\n",
    "df['Reported_Date'] = pd.to_datetime(df['Reported_Date'], unit='ms')\n",
    "df"
   ],
   "metadata": {
    "collapsed": false,
    "pycharm": {
     "name": "#%%\n",
     "is_executing": false
    }
   }
  },
  {
   "cell_type": "code",
   "execution_count": null,
   "outputs": [],
   "source": [
    "plt.plot(df['Date'], df['Positivity'], 'r')"
   ],
   "metadata": {
    "collapsed": false,
    "pycharm": {
     "name": "#%%\n",
     "is_executing": false
    }
   }
  }
 ],
 "metadata": {
  "kernelspec": {
   "name": "pycharm-545cf202",
   "language": "python",
   "display_name": "PyCharm (cmpt-470-project)"
  },
  "language_info": {
   "codemirror_mode": {
    "name": "ipython",
    "version": 2
   },
   "file_extension": ".py",
   "mimetype": "text/x-python",
   "name": "python",
   "nbconvert_exporter": "python",
   "pygments_lexer": "ipython2",
   "version": "2.7.6"
  },
  "pycharm": {
   "stem_cell": {
    "cell_type": "raw",
    "source": [],
    "metadata": {
     "collapsed": false
    }
   }
  }
 },
 "nbformat": 4,
 "nbformat_minor": 0
}