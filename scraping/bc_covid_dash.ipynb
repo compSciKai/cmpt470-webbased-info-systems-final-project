{
 "cells": [
  {
   "cell_type": "code",
   "execution_count": 2,
   "metadata": {
    "collapsed": true,
    "pycharm": {
     "is_executing": false
    }
   },
   "outputs": [],
   "source": [
    "import requests\n",
    "import pandas as pd\n",
    "import matplotlib.pyplot as plt"
   ]
  },
  {
   "cell_type": "code",
   "execution_count": 3,
   "outputs": [],
   "source": [
    "CANADA_TESTING_RATE = 'https://services1.arcgis.com/xeMpV7tU1t4KD3Ei/arcgis/rest/services/BC_COVID19__BC_Canadian_Testing_Rates_View/FeatureServer/0/query?f=json&where=1%3D1&returnGeometry=false&spatialRel=esriSpatialRelIntersects&outFields=*&outStatistics=%5B%7B%22statisticType%22%3A%22max%22%2C%22onStatisticField%22%3A%22F_Can_Test_Rate%22%2C%22outStatisticFieldName%22%3A%22value%22%7D%5D&resultType=standard&cacheHint=true'"
   ],
   "metadata": {
    "collapsed": false,
    "pycharm": {
     "name": "#%%\n",
     "is_executing": false
    }
   }
  },
  {
   "cell_type": "markdown",
   "source": [
    "### Testing rates"
   ],
   "metadata": {
    "collapsed": false,
    "pycharm": {
     "name": "#%% md\n",
     "is_executing": false
    }
   }
  },
  {
   "cell_type": "code",
   "execution_count": 4,
   "outputs": [
    {
     "data": {
      "text/plain": "                   Date             Region  New_Tests  Total_Tests  \\\n0   2020-12-02 08:00:00             Fraser       5955       496338   \n1   2020-12-02 08:00:00           Interior       1317       120252   \n2   2020-12-02 08:00:00           Northern        329        34693   \n3   2020-12-02 08:00:00            Unknown        104        25510   \n4   2020-12-02 08:00:00  Vancouver Coastal       3212       376469   \n..                  ...                ...        ...          ...   \n995 2020-06-20 07:00:00   Vancouver Island        196        26460   \n996 2020-06-19 07:00:00             Fraser        763        65003   \n997 2020-06-19 07:00:00           Interior        292        24925   \n998 2020-06-19 07:00:00           Northern         80         7630   \n999 2020-06-19 07:00:00            Unknown         10          628   \n\n    Testing_Rate  Positivity Turn_Around  ObjectId  \n0           None        8.26        28.6      2064  \n1           None        6.46        39.9      2065  \n2           None        8.05        30.6      2066  \n3           None        0.00        41.1      2067  \n4           None        4.95        28.4      2068  \n..           ...         ...         ...       ...  \n995         None        0.07        21.1      1082  \n996         None        1.17        22.8      1012  \n997         None        0.13        45.1      1018  \n998         None        0.00        29.2      1024  \n999         None        0.00        23.8      1030  \n\n[1000 rows x 8 columns]",
      "text/html": "<div>\n<style scoped>\n    .dataframe tbody tr th:only-of-type {\n        vertical-align: middle;\n    }\n\n    .dataframe tbody tr th {\n        vertical-align: top;\n    }\n\n    .dataframe thead th {\n        text-align: right;\n    }\n</style>\n<table border=\"1\" class=\"dataframe\">\n  <thead>\n    <tr style=\"text-align: right;\">\n      <th></th>\n      <th>Date</th>\n      <th>Region</th>\n      <th>New_Tests</th>\n      <th>Total_Tests</th>\n      <th>Testing_Rate</th>\n      <th>Positivity</th>\n      <th>Turn_Around</th>\n      <th>ObjectId</th>\n    </tr>\n  </thead>\n  <tbody>\n    <tr>\n      <th>0</th>\n      <td>2020-12-02 08:00:00</td>\n      <td>Fraser</td>\n      <td>5955</td>\n      <td>496338</td>\n      <td>None</td>\n      <td>8.26</td>\n      <td>28.6</td>\n      <td>2064</td>\n    </tr>\n    <tr>\n      <th>1</th>\n      <td>2020-12-02 08:00:00</td>\n      <td>Interior</td>\n      <td>1317</td>\n      <td>120252</td>\n      <td>None</td>\n      <td>6.46</td>\n      <td>39.9</td>\n      <td>2065</td>\n    </tr>\n    <tr>\n      <th>2</th>\n      <td>2020-12-02 08:00:00</td>\n      <td>Northern</td>\n      <td>329</td>\n      <td>34693</td>\n      <td>None</td>\n      <td>8.05</td>\n      <td>30.6</td>\n      <td>2066</td>\n    </tr>\n    <tr>\n      <th>3</th>\n      <td>2020-12-02 08:00:00</td>\n      <td>Unknown</td>\n      <td>104</td>\n      <td>25510</td>\n      <td>None</td>\n      <td>0.00</td>\n      <td>41.1</td>\n      <td>2067</td>\n    </tr>\n    <tr>\n      <th>4</th>\n      <td>2020-12-02 08:00:00</td>\n      <td>Vancouver Coastal</td>\n      <td>3212</td>\n      <td>376469</td>\n      <td>None</td>\n      <td>4.95</td>\n      <td>28.4</td>\n      <td>2068</td>\n    </tr>\n    <tr>\n      <th>...</th>\n      <td>...</td>\n      <td>...</td>\n      <td>...</td>\n      <td>...</td>\n      <td>...</td>\n      <td>...</td>\n      <td>...</td>\n      <td>...</td>\n    </tr>\n    <tr>\n      <th>995</th>\n      <td>2020-06-20 07:00:00</td>\n      <td>Vancouver Island</td>\n      <td>196</td>\n      <td>26460</td>\n      <td>None</td>\n      <td>0.07</td>\n      <td>21.1</td>\n      <td>1082</td>\n    </tr>\n    <tr>\n      <th>996</th>\n      <td>2020-06-19 07:00:00</td>\n      <td>Fraser</td>\n      <td>763</td>\n      <td>65003</td>\n      <td>None</td>\n      <td>1.17</td>\n      <td>22.8</td>\n      <td>1012</td>\n    </tr>\n    <tr>\n      <th>997</th>\n      <td>2020-06-19 07:00:00</td>\n      <td>Interior</td>\n      <td>292</td>\n      <td>24925</td>\n      <td>None</td>\n      <td>0.13</td>\n      <td>45.1</td>\n      <td>1018</td>\n    </tr>\n    <tr>\n      <th>998</th>\n      <td>2020-06-19 07:00:00</td>\n      <td>Northern</td>\n      <td>80</td>\n      <td>7630</td>\n      <td>None</td>\n      <td>0.00</td>\n      <td>29.2</td>\n      <td>1024</td>\n    </tr>\n    <tr>\n      <th>999</th>\n      <td>2020-06-19 07:00:00</td>\n      <td>Unknown</td>\n      <td>10</td>\n      <td>628</td>\n      <td>None</td>\n      <td>0.00</td>\n      <td>23.8</td>\n      <td>1030</td>\n    </tr>\n  </tbody>\n</table>\n<p>1000 rows × 8 columns</p>\n</div>"
     },
     "metadata": {},
     "output_type": "execute_result",
     "execution_count": 4
    }
   ],
   "source": [
    "params = {\n",
    "    'f': 'json',\n",
    "    'where': \"Region<>'BC'\",\n",
    "    'outFields': '*',\n",
    "    'orderByFields': 'Date desc',\n",
    "    'resultRecordCount': 32000,\n",
    "    'resultOffset': 0\n",
    "}\n",
    "q ='?f=json&where=Region%3C%3E%27BC%27&spatialRel=esriSpatialRelIntersects&outFields=ObjectId%2CNew_Tests%2CDate%2CTotal_Tests%2CRegion%2C&orderByFields=Date%20asc&resultOffset=0&resultRecordCount=32000'\n",
    "NEW_TESTS = 'https://services1.arcgis.com/xeMpV7tU1t4KD3Ei/arcgis/rest/services/BC_COVID19_Lab_Information/FeatureServer/0/query'\n",
    "result = requests.get(NEW_TESTS, params=params)\n",
    "\n",
    "data = result.json()['features']\n",
    "data = [row['attributes'] for row in data]\n",
    "\n",
    "df = pd.DataFrame(data)\n",
    "df['Date'] = pd.to_datetime(df['Date'], unit='ms')\n",
    "# df = df.sort_values(by='Date', ascending=False)\n",
    "df"
   ],
   "metadata": {
    "collapsed": false,
    "pycharm": {
     "name": "#%%\n",
     "is_executing": false
    }
   }
  },
  {
   "cell_type": "markdown",
   "source": [
    "### Case Details (Most Recent 1000)"
   ],
   "metadata": {
    "collapsed": false
   }
  },
  {
   "cell_type": "code",
   "execution_count": 5,
   "outputs": [
    {
     "data": {
      "text/plain": "          Reported_Date                 HA Sex Age_Group  ObjectId\n0   2020-12-03 08:00:00  Vancouver Coastal   U   Unknown     35275\n1   2020-12-03 08:00:00  Vancouver Coastal   U   Unknown     35277\n2   2020-12-03 08:00:00  Vancouver Coastal   U   Unknown     35279\n3   2020-12-03 08:00:00  Vancouver Coastal   U   Unknown     35281\n4   2020-12-03 08:00:00  Vancouver Coastal   U   Unknown     35283\n..                  ...                ...  ..       ...       ...\n995 2020-12-01 08:00:00             Fraser   F     30-39     34175\n996 2020-12-01 08:00:00             Fraser   F     60-69     34176\n997 2020-12-01 08:00:00             Fraser   M     70-79     34177\n998 2020-12-01 08:00:00             Fraser   F     30-39     34178\n999 2020-12-01 08:00:00             Fraser   F     30-39     34179\n\n[1000 rows x 5 columns]",
      "text/html": "<div>\n<style scoped>\n    .dataframe tbody tr th:only-of-type {\n        vertical-align: middle;\n    }\n\n    .dataframe tbody tr th {\n        vertical-align: top;\n    }\n\n    .dataframe thead th {\n        text-align: right;\n    }\n</style>\n<table border=\"1\" class=\"dataframe\">\n  <thead>\n    <tr style=\"text-align: right;\">\n      <th></th>\n      <th>Reported_Date</th>\n      <th>HA</th>\n      <th>Sex</th>\n      <th>Age_Group</th>\n      <th>ObjectId</th>\n    </tr>\n  </thead>\n  <tbody>\n    <tr>\n      <th>0</th>\n      <td>2020-12-03 08:00:00</td>\n      <td>Vancouver Coastal</td>\n      <td>U</td>\n      <td>Unknown</td>\n      <td>35275</td>\n    </tr>\n    <tr>\n      <th>1</th>\n      <td>2020-12-03 08:00:00</td>\n      <td>Vancouver Coastal</td>\n      <td>U</td>\n      <td>Unknown</td>\n      <td>35277</td>\n    </tr>\n    <tr>\n      <th>2</th>\n      <td>2020-12-03 08:00:00</td>\n      <td>Vancouver Coastal</td>\n      <td>U</td>\n      <td>Unknown</td>\n      <td>35279</td>\n    </tr>\n    <tr>\n      <th>3</th>\n      <td>2020-12-03 08:00:00</td>\n      <td>Vancouver Coastal</td>\n      <td>U</td>\n      <td>Unknown</td>\n      <td>35281</td>\n    </tr>\n    <tr>\n      <th>4</th>\n      <td>2020-12-03 08:00:00</td>\n      <td>Vancouver Coastal</td>\n      <td>U</td>\n      <td>Unknown</td>\n      <td>35283</td>\n    </tr>\n    <tr>\n      <th>...</th>\n      <td>...</td>\n      <td>...</td>\n      <td>...</td>\n      <td>...</td>\n      <td>...</td>\n    </tr>\n    <tr>\n      <th>995</th>\n      <td>2020-12-01 08:00:00</td>\n      <td>Fraser</td>\n      <td>F</td>\n      <td>30-39</td>\n      <td>34175</td>\n    </tr>\n    <tr>\n      <th>996</th>\n      <td>2020-12-01 08:00:00</td>\n      <td>Fraser</td>\n      <td>F</td>\n      <td>60-69</td>\n      <td>34176</td>\n    </tr>\n    <tr>\n      <th>997</th>\n      <td>2020-12-01 08:00:00</td>\n      <td>Fraser</td>\n      <td>M</td>\n      <td>70-79</td>\n      <td>34177</td>\n    </tr>\n    <tr>\n      <th>998</th>\n      <td>2020-12-01 08:00:00</td>\n      <td>Fraser</td>\n      <td>F</td>\n      <td>30-39</td>\n      <td>34178</td>\n    </tr>\n    <tr>\n      <th>999</th>\n      <td>2020-12-01 08:00:00</td>\n      <td>Fraser</td>\n      <td>F</td>\n      <td>30-39</td>\n      <td>34179</td>\n    </tr>\n  </tbody>\n</table>\n<p>1000 rows × 5 columns</p>\n</div>"
     },
     "metadata": {},
     "output_type": "execute_result",
     "execution_count": 5
    }
   ],
   "source": [
    "url = 'https://services1.arcgis.com/xeMpV7tU1t4KD3Ei/ArcGIS/rest/services/BC_COVID19_Dashboard_Case_Details_Production/FeatureServer/0/query'\n",
    "params = {\n",
    "    'f': 'json',\n",
    "    'where': \"1=1\",\n",
    "    'outFields': '*',\n",
    "    'orderByFields': 'Reported_Date desc',\n",
    "    'resultRecordCount': 32000,\n",
    "    'resultOffset': 0\n",
    "}\n",
    "result = requests.get(url, params=params)\n",
    "data = result.json()['features']\n",
    "data = [row['attributes'] for row in data]\n",
    "\n",
    "df = pd.DataFrame(data)\n",
    "df['Reported_Date'] = pd.to_datetime(df['Reported_Date'], unit='ms')\n",
    "df"
   ],
   "metadata": {
    "collapsed": false,
    "pycharm": {
     "name": "#%%\n",
     "is_executing": false
    }
   }
  },
  {
   "cell_type": "markdown",
   "source": [
    "COVID Rates"
   ],
   "metadata": {
    "collapsed": false,
    "pycharm": {
     "name": "#%% md\n",
     "is_executing": false
    }
   }
  },
  {
   "cell_type": "code",
   "execution_count": 6,
   "outputs": [
    {
     "data": {
      "text/plain": "   FID HA_ID            HA_Name   HA_Pop20  Recovered  Deaths  Cases  \\\n0    2   FHA             Fraser  1720066.0      14656     263  22472   \n1    3  VCHA  Vancouver Coastal  1131705.0       7746     201   9278   \n2    1   IHA           Interior   739989.0       1369       3   1981   \n3    5   NHA           Northern   279885.0        685       8    928   \n4    4  VIHA   Vancouver Island   776410.0        386       6    669   \n5    6  None      Out of Canada        NaN         86       0     94   \n\n           Date_Updat                                Source   URL  ...  \\\n0 2020-12-04 00:30:00  BCCDC, B.C. Ministry of Health, PHSA  None  ...   \n1 2020-12-04 00:30:00  BCCDC, B.C. Ministry of Health, PHSA  None  ...   \n2 2020-12-04 00:30:00  BCCDC, B.C. Ministry of Health, PHSA  None  ...   \n3 2020-12-04 00:30:00  BCCDC, B.C. Ministry of Health, PHSA  None  ...   \n4 2020-12-04 00:30:00  BCCDC, B.C. Ministry of Health, PHSA  None  ...   \n5 2020-12-04 00:30:00  BCCDC, B.C. Ministry of Health, PHSA  None  ...   \n\n    Shape__Area  Shape__Length  Hospitalized  CurrentlyHosp  EverICU  \\\n0  1.572177e+10   7.491592e+05          1150            187        0   \n1  5.481186e+10   7.491881e+06           566             77        0   \n2  2.135019e+11   2.865217e+06            80             16        0   \n3  6.304509e+11   1.186837e+07            94             33        0   \n4  5.539550e+10   8.865158e+06            44             12        0   \n5  1.726758e+08   5.259872e+04             8              0        0   \n\n   CurrentlyICU  NewCases  LabCases  EpiCases  ActiveCases  \n0            42       465     22332       140         6652  \n1            18       114      9177       101         1328  \n2             5        82      1934        47          608  \n3            11        23       881        47          235  \n4             4        10       663         6          277  \n5             0         0        93         1            3  \n\n[6 rows x 21 columns]",
      "text/html": "<div>\n<style scoped>\n    .dataframe tbody tr th:only-of-type {\n        vertical-align: middle;\n    }\n\n    .dataframe tbody tr th {\n        vertical-align: top;\n    }\n\n    .dataframe thead th {\n        text-align: right;\n    }\n</style>\n<table border=\"1\" class=\"dataframe\">\n  <thead>\n    <tr style=\"text-align: right;\">\n      <th></th>\n      <th>FID</th>\n      <th>HA_ID</th>\n      <th>HA_Name</th>\n      <th>HA_Pop20</th>\n      <th>Recovered</th>\n      <th>Deaths</th>\n      <th>Cases</th>\n      <th>Date_Updat</th>\n      <th>Source</th>\n      <th>URL</th>\n      <th>...</th>\n      <th>Shape__Area</th>\n      <th>Shape__Length</th>\n      <th>Hospitalized</th>\n      <th>CurrentlyHosp</th>\n      <th>EverICU</th>\n      <th>CurrentlyICU</th>\n      <th>NewCases</th>\n      <th>LabCases</th>\n      <th>EpiCases</th>\n      <th>ActiveCases</th>\n    </tr>\n  </thead>\n  <tbody>\n    <tr>\n      <th>0</th>\n      <td>2</td>\n      <td>FHA</td>\n      <td>Fraser</td>\n      <td>1720066.0</td>\n      <td>14656</td>\n      <td>263</td>\n      <td>22472</td>\n      <td>2020-12-04 00:30:00</td>\n      <td>BCCDC, B.C. Ministry of Health, PHSA</td>\n      <td>None</td>\n      <td>...</td>\n      <td>1.572177e+10</td>\n      <td>7.491592e+05</td>\n      <td>1150</td>\n      <td>187</td>\n      <td>0</td>\n      <td>42</td>\n      <td>465</td>\n      <td>22332</td>\n      <td>140</td>\n      <td>6652</td>\n    </tr>\n    <tr>\n      <th>1</th>\n      <td>3</td>\n      <td>VCHA</td>\n      <td>Vancouver Coastal</td>\n      <td>1131705.0</td>\n      <td>7746</td>\n      <td>201</td>\n      <td>9278</td>\n      <td>2020-12-04 00:30:00</td>\n      <td>BCCDC, B.C. Ministry of Health, PHSA</td>\n      <td>None</td>\n      <td>...</td>\n      <td>5.481186e+10</td>\n      <td>7.491881e+06</td>\n      <td>566</td>\n      <td>77</td>\n      <td>0</td>\n      <td>18</td>\n      <td>114</td>\n      <td>9177</td>\n      <td>101</td>\n      <td>1328</td>\n    </tr>\n    <tr>\n      <th>2</th>\n      <td>1</td>\n      <td>IHA</td>\n      <td>Interior</td>\n      <td>739989.0</td>\n      <td>1369</td>\n      <td>3</td>\n      <td>1981</td>\n      <td>2020-12-04 00:30:00</td>\n      <td>BCCDC, B.C. Ministry of Health, PHSA</td>\n      <td>None</td>\n      <td>...</td>\n      <td>2.135019e+11</td>\n      <td>2.865217e+06</td>\n      <td>80</td>\n      <td>16</td>\n      <td>0</td>\n      <td>5</td>\n      <td>82</td>\n      <td>1934</td>\n      <td>47</td>\n      <td>608</td>\n    </tr>\n    <tr>\n      <th>3</th>\n      <td>5</td>\n      <td>NHA</td>\n      <td>Northern</td>\n      <td>279885.0</td>\n      <td>685</td>\n      <td>8</td>\n      <td>928</td>\n      <td>2020-12-04 00:30:00</td>\n      <td>BCCDC, B.C. Ministry of Health, PHSA</td>\n      <td>None</td>\n      <td>...</td>\n      <td>6.304509e+11</td>\n      <td>1.186837e+07</td>\n      <td>94</td>\n      <td>33</td>\n      <td>0</td>\n      <td>11</td>\n      <td>23</td>\n      <td>881</td>\n      <td>47</td>\n      <td>235</td>\n    </tr>\n    <tr>\n      <th>4</th>\n      <td>4</td>\n      <td>VIHA</td>\n      <td>Vancouver Island</td>\n      <td>776410.0</td>\n      <td>386</td>\n      <td>6</td>\n      <td>669</td>\n      <td>2020-12-04 00:30:00</td>\n      <td>BCCDC, B.C. Ministry of Health, PHSA</td>\n      <td>None</td>\n      <td>...</td>\n      <td>5.539550e+10</td>\n      <td>8.865158e+06</td>\n      <td>44</td>\n      <td>12</td>\n      <td>0</td>\n      <td>4</td>\n      <td>10</td>\n      <td>663</td>\n      <td>6</td>\n      <td>277</td>\n    </tr>\n    <tr>\n      <th>5</th>\n      <td>6</td>\n      <td>None</td>\n      <td>Out of Canada</td>\n      <td>NaN</td>\n      <td>86</td>\n      <td>0</td>\n      <td>94</td>\n      <td>2020-12-04 00:30:00</td>\n      <td>BCCDC, B.C. Ministry of Health, PHSA</td>\n      <td>None</td>\n      <td>...</td>\n      <td>1.726758e+08</td>\n      <td>5.259872e+04</td>\n      <td>8</td>\n      <td>0</td>\n      <td>0</td>\n      <td>0</td>\n      <td>0</td>\n      <td>93</td>\n      <td>1</td>\n      <td>3</td>\n    </tr>\n  </tbody>\n</table>\n<p>6 rows × 21 columns</p>\n</div>"
     },
     "metadata": {},
     "output_type": "execute_result",
     "execution_count": 6
    }
   ],
   "source": [
    "url = 'https://services1.arcgis.com/xeMpV7tU1t4KD3Ei/ArcGIS/rest/services/COVID19_Cases_by_BC_Health_Authority/FeatureServer/0/query'\n",
    "params = {\n",
    "    'f': 'json',\n",
    "    'where': \"1=1\",\n",
    "    'outFields': '*',\n",
    "    'orderByFields': 'Cases desc',\n",
    "    # 'outStatistics': [{\"statisticType\":\"sum\",\"onStatisticField\":\"NewCases\",\"outStatisticFieldName\":\"value\"}],\n",
    "    'resultRecordCount': 4000,\n",
    "    'resultOffset': 0,\n",
    "    \"returnGeometry\": False,\n",
    "}\n",
    "result = requests.get(url, params=params)\n",
    "data = [row['attributes'] for row in result.json()['features']]\n",
    "\n",
    "df = pd.DataFrame(data)\n",
    "df['Date_Updat'] = pd.to_datetime(df['Date_Updat'], unit='ms')\n",
    "df"
   ],
   "metadata": {
    "collapsed": false,
    "pycharm": {
     "name": "#%%\n",
     "is_executing": false
    }
   }
  },
  {
   "cell_type": "code",
   "execution_count": null,
   "outputs": [],
   "source": [
    "url = 'https://services1.arcgis.com/xeMpV7tU1t4KD3Ei/ArcGIS/rest/services/COVID19_Cases_by_BC_Health_Authority/FeatureServer/0/query'\n",
    "params = {\n",
    "    'f': 'json',\n",
    "    'where': \"1=1\",\n",
    "    'outFields': '*',\n",
    "    'orderByFields': 'Cases desc',\n",
    "    # 'outStatistics': [{\"statisticType\":\"sum\",\"onStatisticField\":\"NewCases\",\"outStatisticFieldName\":\"value\"}],\n",
    "    'resultRecordCount': 4000,\n",
    "    'resultOffset': 0,\n",
    "    \"returnGeometry\": False,\n",
    "}\n",
    "result = requests.get(url, params=params)\n",
    "data = [row['attributes'] for row in result.json()['features']]\n",
    "\n",
    "df = pd.DataFrame(data)\n",
    "df['Date_Updat'] = pd.to_datetime(df['Date_Updat'], unit='ms')\n",
    "df\n"
   ],
   "metadata": {
    "collapsed": false,
    "pycharm": {
     "name": "#%%\n"
    }
   }
  }
 ],
 "metadata": {
  "kernelspec": {
   "name": "pycharm-545cf202",
   "language": "python",
   "display_name": "PyCharm (cmpt-470-project)"
  },
  "language_info": {
   "codemirror_mode": {
    "name": "ipython",
    "version": 2
   },
   "file_extension": ".py",
   "mimetype": "text/x-python",
   "name": "python",
   "nbconvert_exporter": "python",
   "pygments_lexer": "ipython2",
   "version": "2.7.6"
  },
  "pycharm": {
   "stem_cell": {
    "cell_type": "raw",
    "source": [],
    "metadata": {
     "collapsed": false
    }
   }
  }
 },
 "nbformat": 4,
 "nbformat_minor": 0
}