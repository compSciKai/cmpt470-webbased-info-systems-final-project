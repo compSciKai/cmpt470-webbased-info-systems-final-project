{
 "cells": [
  {
   "cell_type": "code",
   "execution_count": 2,
   "metadata": {
    "collapsed": true,
    "pycharm": {
     "is_executing": false
    }
   },
   "outputs": [],
   "source": [
    "import requests\n",
    "import pandas as pd\n",
    "import matplotlib.pyplot as plt"
   ]
  },
  {
   "cell_type": "code",
   "execution_count": 3,
   "outputs": [],
   "source": [
    "CANADA_TESTING_RATE = 'https://services1.arcgis.com/xeMpV7tU1t4KD3Ei/arcgis/rest/services/BC_COVID19__BC_Canadian_Testing_Rates_View/FeatureServer/0/query?f=json&where=1%3D1&returnGeometry=false&spatialRel=esriSpatialRelIntersects&outFields=*&outStatistics=%5B%7B%22statisticType%22%3A%22max%22%2C%22onStatisticField%22%3A%22F_Can_Test_Rate%22%2C%22outStatisticFieldName%22%3A%22value%22%7D%5D&resultType=standard&cacheHint=true'"
   ],
   "metadata": {
    "collapsed": false,
    "pycharm": {
     "name": "#%%\n",
     "is_executing": false
    }
   }
  },
  {
   "cell_type": "markdown",
   "source": [
    "### Testing rates"
   ],
   "metadata": {
    "collapsed": false,
    "pycharm": {
     "name": "#%% md\n",
     "is_executing": false
    }
   }
  },
  {
   "cell_type": "code",
   "execution_count": 4,
   "outputs": [
    {
     "data": {
      "text/plain": "                   Date             Region  New_Tests  Total_Tests  \\\n0   2020-11-04 08:00:00             Fraser       5274       344141   \n1   2020-11-04 08:00:00           Interior        706        96399   \n2   2020-11-04 08:00:00           Northern        146        29144   \n3   2020-11-04 08:00:00            Unknown        160        14978   \n4   2020-11-04 08:00:00  Vancouver Coastal       3772       289836   \n..                  ...                ...        ...          ...   \n995 2020-05-23 07:00:00   Vancouver Island        295        20165   \n996 2020-05-22 07:00:00             Fraser        602        48029   \n997 2020-05-22 07:00:00           Interior        279        18827   \n998 2020-05-22 07:00:00           Northern         88         5603   \n999 2020-05-22 07:00:00            Unknown         21         1553   \n\n    Testing_Rate  Positivity Turn_Around  ObjectId  \n0           None        7.16          31      1957  \n1           None        1.89        24.2      1977  \n2           None        2.74        29.4      1979  \n3           None        0.00        34.5      1981  \n4           None        3.23        28.4      2001  \n..           ...         ...         ...       ...  \n995         None        0.11        21.6      1147  \n996         None        2.21        19.5      1135  \n997         None        0.47        20.8      1136  \n998         None        1.31        29.5      1137  \n999         None        0.00         9.1      1138  \n\n[1000 rows x 8 columns]",
      "text/html": "<div>\n<style scoped>\n    .dataframe tbody tr th:only-of-type {\n        vertical-align: middle;\n    }\n\n    .dataframe tbody tr th {\n        vertical-align: top;\n    }\n\n    .dataframe thead th {\n        text-align: right;\n    }\n</style>\n<table border=\"1\" class=\"dataframe\">\n  <thead>\n    <tr style=\"text-align: right;\">\n      <th></th>\n      <th>Date</th>\n      <th>Region</th>\n      <th>New_Tests</th>\n      <th>Total_Tests</th>\n      <th>Testing_Rate</th>\n      <th>Positivity</th>\n      <th>Turn_Around</th>\n      <th>ObjectId</th>\n    </tr>\n  </thead>\n  <tbody>\n    <tr>\n      <th>0</th>\n      <td>2020-11-04 08:00:00</td>\n      <td>Fraser</td>\n      <td>5274</td>\n      <td>344141</td>\n      <td>None</td>\n      <td>7.16</td>\n      <td>31</td>\n      <td>1957</td>\n    </tr>\n    <tr>\n      <th>1</th>\n      <td>2020-11-04 08:00:00</td>\n      <td>Interior</td>\n      <td>706</td>\n      <td>96399</td>\n      <td>None</td>\n      <td>1.89</td>\n      <td>24.2</td>\n      <td>1977</td>\n    </tr>\n    <tr>\n      <th>2</th>\n      <td>2020-11-04 08:00:00</td>\n      <td>Northern</td>\n      <td>146</td>\n      <td>29144</td>\n      <td>None</td>\n      <td>2.74</td>\n      <td>29.4</td>\n      <td>1979</td>\n    </tr>\n    <tr>\n      <th>3</th>\n      <td>2020-11-04 08:00:00</td>\n      <td>Unknown</td>\n      <td>160</td>\n      <td>14978</td>\n      <td>None</td>\n      <td>0.00</td>\n      <td>34.5</td>\n      <td>1981</td>\n    </tr>\n    <tr>\n      <th>4</th>\n      <td>2020-11-04 08:00:00</td>\n      <td>Vancouver Coastal</td>\n      <td>3772</td>\n      <td>289836</td>\n      <td>None</td>\n      <td>3.23</td>\n      <td>28.4</td>\n      <td>2001</td>\n    </tr>\n    <tr>\n      <th>...</th>\n      <td>...</td>\n      <td>...</td>\n      <td>...</td>\n      <td>...</td>\n      <td>...</td>\n      <td>...</td>\n      <td>...</td>\n      <td>...</td>\n    </tr>\n    <tr>\n      <th>995</th>\n      <td>2020-05-23 07:00:00</td>\n      <td>Vancouver Island</td>\n      <td>295</td>\n      <td>20165</td>\n      <td>None</td>\n      <td>0.11</td>\n      <td>21.6</td>\n      <td>1147</td>\n    </tr>\n    <tr>\n      <th>996</th>\n      <td>2020-05-22 07:00:00</td>\n      <td>Fraser</td>\n      <td>602</td>\n      <td>48029</td>\n      <td>None</td>\n      <td>2.21</td>\n      <td>19.5</td>\n      <td>1135</td>\n    </tr>\n    <tr>\n      <th>997</th>\n      <td>2020-05-22 07:00:00</td>\n      <td>Interior</td>\n      <td>279</td>\n      <td>18827</td>\n      <td>None</td>\n      <td>0.47</td>\n      <td>20.8</td>\n      <td>1136</td>\n    </tr>\n    <tr>\n      <th>998</th>\n      <td>2020-05-22 07:00:00</td>\n      <td>Northern</td>\n      <td>88</td>\n      <td>5603</td>\n      <td>None</td>\n      <td>1.31</td>\n      <td>29.5</td>\n      <td>1137</td>\n    </tr>\n    <tr>\n      <th>999</th>\n      <td>2020-05-22 07:00:00</td>\n      <td>Unknown</td>\n      <td>21</td>\n      <td>1553</td>\n      <td>None</td>\n      <td>0.00</td>\n      <td>9.1</td>\n      <td>1138</td>\n    </tr>\n  </tbody>\n</table>\n<p>1000 rows × 8 columns</p>\n</div>"
     },
     "metadata": {},
     "output_type": "execute_result",
     "execution_count": 4
    }
   ],
   "source": [
    "params = {\n",
    "    'f': 'json',\n",
    "    'where': \"Region<>'BC'\",\n",
    "    'outFields': '*',\n",
    "    'orderByFields': 'Date desc',\n",
    "    'resultRecordCount': 32000,\n",
    "    'resultOffset': 0\n",
    "}\n",
    "q ='?f=json&where=Region%3C%3E%27BC%27&spatialRel=esriSpatialRelIntersects&outFields=ObjectId%2CNew_Tests%2CDate%2CTotal_Tests%2CRegion%2C&orderByFields=Date%20asc&resultOffset=0&resultRecordCount=32000'\n",
    "NEW_TESTS = 'https://services1.arcgis.com/xeMpV7tU1t4KD3Ei/arcgis/rest/services/BC_COVID19_Lab_Information/FeatureServer/0/query'\n",
    "result = requests.get(NEW_TESTS, params=params)\n",
    "\n",
    "data = result.json()['features']\n",
    "data = [row['attributes'] for row in data]\n",
    "\n",
    "df = pd.DataFrame(data)\n",
    "df['Date'] = pd.to_datetime(df['Date'], unit='ms')\n",
    "# df = df.sort_values(by='Date', ascending=False)\n",
    "df"
   ],
   "metadata": {
    "collapsed": false,
    "pycharm": {
     "name": "#%%\n",
     "is_executing": false
    }
   }
  },
  {
   "cell_type": "markdown",
   "source": [
    "### Case Details (Most Recent 1000)"
   ],
   "metadata": {
    "collapsed": false
   }
  },
  {
   "cell_type": "code",
   "execution_count": 5,
   "outputs": [
    {
     "data": {
      "text/plain": "          Reported_Date                 HA Sex Age_Group  ObjectId\n0   2020-11-05 08:00:00           Northern   F     40-49     16489\n1   2020-11-05 08:00:00           Northern   F     80-89     16490\n2   2020-11-05 08:00:00           Northern   F     20-29     16491\n3   2020-11-05 08:00:00  Vancouver Coastal   U     30-39     16492\n4   2020-11-05 08:00:00  Vancouver Coastal   U     40-49     16493\n..                  ...                ...  ..       ...       ...\n995 2020-11-02 08:00:00             Fraser   M       <10     15930\n996 2020-11-02 08:00:00             Fraser   M     20-29     15931\n997 2020-11-02 08:00:00             Fraser   M     20-29     15932\n998 2020-11-02 08:00:00             Fraser   M     40-49     15933\n999 2020-11-02 08:00:00             Fraser   M     20-29     15934\n\n[1000 rows x 5 columns]",
      "text/html": "<div>\n<style scoped>\n    .dataframe tbody tr th:only-of-type {\n        vertical-align: middle;\n    }\n\n    .dataframe tbody tr th {\n        vertical-align: top;\n    }\n\n    .dataframe thead th {\n        text-align: right;\n    }\n</style>\n<table border=\"1\" class=\"dataframe\">\n  <thead>\n    <tr style=\"text-align: right;\">\n      <th></th>\n      <th>Reported_Date</th>\n      <th>HA</th>\n      <th>Sex</th>\n      <th>Age_Group</th>\n      <th>ObjectId</th>\n    </tr>\n  </thead>\n  <tbody>\n    <tr>\n      <th>0</th>\n      <td>2020-11-05 08:00:00</td>\n      <td>Northern</td>\n      <td>F</td>\n      <td>40-49</td>\n      <td>16489</td>\n    </tr>\n    <tr>\n      <th>1</th>\n      <td>2020-11-05 08:00:00</td>\n      <td>Northern</td>\n      <td>F</td>\n      <td>80-89</td>\n      <td>16490</td>\n    </tr>\n    <tr>\n      <th>2</th>\n      <td>2020-11-05 08:00:00</td>\n      <td>Northern</td>\n      <td>F</td>\n      <td>20-29</td>\n      <td>16491</td>\n    </tr>\n    <tr>\n      <th>3</th>\n      <td>2020-11-05 08:00:00</td>\n      <td>Vancouver Coastal</td>\n      <td>U</td>\n      <td>30-39</td>\n      <td>16492</td>\n    </tr>\n    <tr>\n      <th>4</th>\n      <td>2020-11-05 08:00:00</td>\n      <td>Vancouver Coastal</td>\n      <td>U</td>\n      <td>40-49</td>\n      <td>16493</td>\n    </tr>\n    <tr>\n      <th>...</th>\n      <td>...</td>\n      <td>...</td>\n      <td>...</td>\n      <td>...</td>\n      <td>...</td>\n    </tr>\n    <tr>\n      <th>995</th>\n      <td>2020-11-02 08:00:00</td>\n      <td>Fraser</td>\n      <td>M</td>\n      <td>&lt;10</td>\n      <td>15930</td>\n    </tr>\n    <tr>\n      <th>996</th>\n      <td>2020-11-02 08:00:00</td>\n      <td>Fraser</td>\n      <td>M</td>\n      <td>20-29</td>\n      <td>15931</td>\n    </tr>\n    <tr>\n      <th>997</th>\n      <td>2020-11-02 08:00:00</td>\n      <td>Fraser</td>\n      <td>M</td>\n      <td>20-29</td>\n      <td>15932</td>\n    </tr>\n    <tr>\n      <th>998</th>\n      <td>2020-11-02 08:00:00</td>\n      <td>Fraser</td>\n      <td>M</td>\n      <td>40-49</td>\n      <td>15933</td>\n    </tr>\n    <tr>\n      <th>999</th>\n      <td>2020-11-02 08:00:00</td>\n      <td>Fraser</td>\n      <td>M</td>\n      <td>20-29</td>\n      <td>15934</td>\n    </tr>\n  </tbody>\n</table>\n<p>1000 rows × 5 columns</p>\n</div>"
     },
     "metadata": {},
     "output_type": "execute_result",
     "execution_count": 5
    }
   ],
   "source": [
    "url = 'https://services1.arcgis.com/xeMpV7tU1t4KD3Ei/ArcGIS/rest/services/BC_COVID19_Dashboard_Case_Details_Production/FeatureServer/0/query'\n",
    "params = {\n",
    "    'f': 'json',\n",
    "    'where': \"1=1\",\n",
    "    'outFields': '*',\n",
    "    'orderByFields': 'Reported_Date desc',\n",
    "    'resultRecordCount': 32000,\n",
    "    'resultOffset': 0\n",
    "}\n",
    "result = requests.get(url, params=params)\n",
    "data = result.json()['features']\n",
    "data = [row['attributes'] for row in data]\n",
    "\n",
    "df = pd.DataFrame(data)\n",
    "df['Reported_Date'] = pd.to_datetime(df['Reported_Date'], unit='ms')\n",
    "df"
   ],
   "metadata": {
    "collapsed": false,
    "pycharm": {
     "name": "#%%\n",
     "is_executing": false
    }
   }
  },
  {
   "cell_type": "markdown",
   "source": [
    "COVID Rates"
   ],
   "metadata": {
    "collapsed": false,
    "pycharm": {
     "name": "#%% md\n",
     "is_executing": false
    }
   }
  },
  {
   "cell_type": "code",
   "execution_count": 34,
   "outputs": [
    {
     "data": {
      "text/plain": "   FID HA_ID            HA_Name   HA_Pop20  Recovered  Deaths  Cases  \\\n0    2   FHA             Fraser  1720066.0       7076     123   9707   \n1    3  VCHA  Vancouver Coastal  1131705.0       4276     138   5223   \n2    1   IHA           Interior   739989.0        714       3    821   \n3    5   NHA           Northern   279885.0        406       3    438   \n4    4  VIHA   Vancouver Island   776410.0        249       6    281   \n5    6  None      Out of Canada        NaN         85       0     90   \n\n           Date_Updat                                Source   URL  ...  \\\n0 2020-11-06 00:30:00  BCCDC, B.C. Ministry of Health, PHSA  None  ...   \n1 2020-11-06 00:30:00  BCCDC, B.C. Ministry of Health, PHSA  None  ...   \n2 2020-11-06 00:30:00  BCCDC, B.C. Ministry of Health, PHSA  None  ...   \n3 2020-11-06 00:30:00  BCCDC, B.C. Ministry of Health, PHSA  None  ...   \n4 2020-11-06 00:30:00  BCCDC, B.C. Ministry of Health, PHSA  None  ...   \n5 2020-11-06 00:30:00  BCCDC, B.C. Ministry of Health, PHSA  None  ...   \n\n    Shape__Area  Shape__Length  Hospitalized  CurrentlyHosp  EverICU  \\\n0  1.572177e+10   7.491592e+05           577             56        0   \n1  5.481186e+10   7.491881e+06           372             40        0   \n2  2.135019e+11   2.865217e+06            46              1        0   \n3  6.304509e+11   1.186837e+07            32              0        0   \n4  5.539550e+10   8.865158e+06            26              0        0   \n5  1.726758e+08   5.259872e+04             6              0        0   \n\n   CurrentlyICU  NewCases  LabCases  EpiCases  ActiveCases  \n0            14       268      9587       120         2420  \n1             9       126      5156        67          806  \n2             0        18       780        41          104  \n3             1         6       405        33           29  \n4             0         7       275         6           26  \n5             0         0        89         1            4  \n\n[6 rows x 21 columns]",
      "text/html": "<div>\n<style scoped>\n    .dataframe tbody tr th:only-of-type {\n        vertical-align: middle;\n    }\n\n    .dataframe tbody tr th {\n        vertical-align: top;\n    }\n\n    .dataframe thead th {\n        text-align: right;\n    }\n</style>\n<table border=\"1\" class=\"dataframe\">\n  <thead>\n    <tr style=\"text-align: right;\">\n      <th></th>\n      <th>FID</th>\n      <th>HA_ID</th>\n      <th>HA_Name</th>\n      <th>HA_Pop20</th>\n      <th>Recovered</th>\n      <th>Deaths</th>\n      <th>Cases</th>\n      <th>Date_Updat</th>\n      <th>Source</th>\n      <th>URL</th>\n      <th>...</th>\n      <th>Shape__Area</th>\n      <th>Shape__Length</th>\n      <th>Hospitalized</th>\n      <th>CurrentlyHosp</th>\n      <th>EverICU</th>\n      <th>CurrentlyICU</th>\n      <th>NewCases</th>\n      <th>LabCases</th>\n      <th>EpiCases</th>\n      <th>ActiveCases</th>\n    </tr>\n  </thead>\n  <tbody>\n    <tr>\n      <th>0</th>\n      <td>2</td>\n      <td>FHA</td>\n      <td>Fraser</td>\n      <td>1720066.0</td>\n      <td>7076</td>\n      <td>123</td>\n      <td>9707</td>\n      <td>2020-11-06 00:30:00</td>\n      <td>BCCDC, B.C. Ministry of Health, PHSA</td>\n      <td>None</td>\n      <td>...</td>\n      <td>1.572177e+10</td>\n      <td>7.491592e+05</td>\n      <td>577</td>\n      <td>56</td>\n      <td>0</td>\n      <td>14</td>\n      <td>268</td>\n      <td>9587</td>\n      <td>120</td>\n      <td>2420</td>\n    </tr>\n    <tr>\n      <th>1</th>\n      <td>3</td>\n      <td>VCHA</td>\n      <td>Vancouver Coastal</td>\n      <td>1131705.0</td>\n      <td>4276</td>\n      <td>138</td>\n      <td>5223</td>\n      <td>2020-11-06 00:30:00</td>\n      <td>BCCDC, B.C. Ministry of Health, PHSA</td>\n      <td>None</td>\n      <td>...</td>\n      <td>5.481186e+10</td>\n      <td>7.491881e+06</td>\n      <td>372</td>\n      <td>40</td>\n      <td>0</td>\n      <td>9</td>\n      <td>126</td>\n      <td>5156</td>\n      <td>67</td>\n      <td>806</td>\n    </tr>\n    <tr>\n      <th>2</th>\n      <td>1</td>\n      <td>IHA</td>\n      <td>Interior</td>\n      <td>739989.0</td>\n      <td>714</td>\n      <td>3</td>\n      <td>821</td>\n      <td>2020-11-06 00:30:00</td>\n      <td>BCCDC, B.C. Ministry of Health, PHSA</td>\n      <td>None</td>\n      <td>...</td>\n      <td>2.135019e+11</td>\n      <td>2.865217e+06</td>\n      <td>46</td>\n      <td>1</td>\n      <td>0</td>\n      <td>0</td>\n      <td>18</td>\n      <td>780</td>\n      <td>41</td>\n      <td>104</td>\n    </tr>\n    <tr>\n      <th>3</th>\n      <td>5</td>\n      <td>NHA</td>\n      <td>Northern</td>\n      <td>279885.0</td>\n      <td>406</td>\n      <td>3</td>\n      <td>438</td>\n      <td>2020-11-06 00:30:00</td>\n      <td>BCCDC, B.C. Ministry of Health, PHSA</td>\n      <td>None</td>\n      <td>...</td>\n      <td>6.304509e+11</td>\n      <td>1.186837e+07</td>\n      <td>32</td>\n      <td>0</td>\n      <td>0</td>\n      <td>1</td>\n      <td>6</td>\n      <td>405</td>\n      <td>33</td>\n      <td>29</td>\n    </tr>\n    <tr>\n      <th>4</th>\n      <td>4</td>\n      <td>VIHA</td>\n      <td>Vancouver Island</td>\n      <td>776410.0</td>\n      <td>249</td>\n      <td>6</td>\n      <td>281</td>\n      <td>2020-11-06 00:30:00</td>\n      <td>BCCDC, B.C. Ministry of Health, PHSA</td>\n      <td>None</td>\n      <td>...</td>\n      <td>5.539550e+10</td>\n      <td>8.865158e+06</td>\n      <td>26</td>\n      <td>0</td>\n      <td>0</td>\n      <td>0</td>\n      <td>7</td>\n      <td>275</td>\n      <td>6</td>\n      <td>26</td>\n    </tr>\n    <tr>\n      <th>5</th>\n      <td>6</td>\n      <td>None</td>\n      <td>Out of Canada</td>\n      <td>NaN</td>\n      <td>85</td>\n      <td>0</td>\n      <td>90</td>\n      <td>2020-11-06 00:30:00</td>\n      <td>BCCDC, B.C. Ministry of Health, PHSA</td>\n      <td>None</td>\n      <td>...</td>\n      <td>1.726758e+08</td>\n      <td>5.259872e+04</td>\n      <td>6</td>\n      <td>0</td>\n      <td>0</td>\n      <td>0</td>\n      <td>0</td>\n      <td>89</td>\n      <td>1</td>\n      <td>4</td>\n    </tr>\n  </tbody>\n</table>\n<p>6 rows × 21 columns</p>\n</div>"
     },
     "metadata": {},
     "output_type": "execute_result",
     "execution_count": 34
    }
   ],
   "source": [
    "url = 'https://services1.arcgis.com/xeMpV7tU1t4KD3Ei/ArcGIS/rest/services/COVID19_Cases_by_BC_Health_Authority/FeatureServer/0/query'\n",
    "params = {\n",
    "    'f': 'json',\n",
    "    'where': \"1=1\",\n",
    "    'outFields': '*',\n",
    "    'orderByFields': 'Cases desc',\n",
    "    # 'outStatistics': [{\"statisticType\":\"sum\",\"onStatisticField\":\"NewCases\",\"outStatisticFieldName\":\"value\"}],\n",
    "    'resultRecordCount': 4000,\n",
    "    'resultOffset': 0,\n",
    "    \"returnGeometry\": False,\n",
    "}\n",
    "result = requests.get(url, params=params)\n",
    "data = [row['attributes'] for row in result.json()['features']]\n",
    "\n",
    "df = pd.DataFrame(data)\n",
    "df['Date_Updat'] = pd.to_datetime(df['Date_Updat'], unit='ms')\n",
    "df\n"
   ],
   "metadata": {
    "collapsed": false,
    "pycharm": {
     "name": "#%%\n",
     "is_executing": false
    }
   }
  }
 ],
 "metadata": {
  "kernelspec": {
   "name": "pycharm-545cf202",
   "language": "python",
   "display_name": "PyCharm (cmpt-470-project)"
  },
  "language_info": {
   "codemirror_mode": {
    "name": "ipython",
    "version": 2
   },
   "file_extension": ".py",
   "mimetype": "text/x-python",
   "name": "python",
   "nbconvert_exporter": "python",
   "pygments_lexer": "ipython2",
   "version": "2.7.6"
  },
  "pycharm": {
   "stem_cell": {
    "cell_type": "raw",
    "source": [],
    "metadata": {
     "collapsed": false
    }
   }
  }
 },
 "nbformat": 4,
 "nbformat_minor": 0
}