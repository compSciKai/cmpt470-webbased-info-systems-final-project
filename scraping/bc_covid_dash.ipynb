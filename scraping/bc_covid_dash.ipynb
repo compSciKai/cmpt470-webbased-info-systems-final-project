{
 "cells": [
  {
   "cell_type": "code",
   "execution_count": 2,
   "metadata": {
    "collapsed": true,
    "pycharm": {
     "is_executing": false
    }
   },
   "outputs": [],
   "source": [
    "import requests\n",
    "import pandas as pd\n",
    "import matplotlib.pyplot as plt"
   ]
  },
  {
   "cell_type": "code",
   "execution_count": 3,
   "outputs": [],
   "source": [
    "CANADA_TESTING_RATE = 'https://services1.arcgis.com/xeMpV7tU1t4KD3Ei/arcgis/rest/services/BC_COVID19__BC_Canadian_Testing_Rates_View/FeatureServer/0/query?f=json&where=1%3D1&returnGeometry=false&spatialRel=esriSpatialRelIntersects&outFields=*&outStatistics=%5B%7B%22statisticType%22%3A%22max%22%2C%22onStatisticField%22%3A%22F_Can_Test_Rate%22%2C%22outStatisticFieldName%22%3A%22value%22%7D%5D&resultType=standard&cacheHint=true'"
   ],
   "metadata": {
    "collapsed": false,
    "pycharm": {
     "name": "#%%\n",
     "is_executing": false
    }
   }
  },
  {
   "cell_type": "markdown",
   "source": [
    "### Testing rates"
   ],
   "metadata": {
    "collapsed": false,
    "pycharm": {
     "name": "#%% md\n",
     "is_executing": false
    }
   }
  },
  {
   "cell_type": "code",
   "execution_count": 4,
   "outputs": [
    {
     "data": {
      "text/plain": "                   Date             Region  New_Tests  Total_Tests  \\\n0   2020-11-04 08:00:00             Fraser       5274       344141   \n1   2020-11-04 08:00:00           Interior        706        96399   \n2   2020-11-04 08:00:00           Northern        146        29144   \n3   2020-11-04 08:00:00            Unknown        160        14978   \n4   2020-11-04 08:00:00  Vancouver Coastal       3772       289836   \n..                  ...                ...        ...          ...   \n995 2020-05-23 07:00:00   Vancouver Island        295        20165   \n996 2020-05-22 07:00:00             Fraser        602        48029   \n997 2020-05-22 07:00:00           Interior        279        18827   \n998 2020-05-22 07:00:00           Northern         88         5603   \n999 2020-05-22 07:00:00            Unknown         21         1553   \n\n    Testing_Rate  Positivity Turn_Around  ObjectId  \n0           None        7.16          31      1957  \n1           None        1.89        24.2      1977  \n2           None        2.74        29.4      1979  \n3           None        0.00        34.5      1981  \n4           None        3.23        28.4      2001  \n..           ...         ...         ...       ...  \n995         None        0.11        21.6      1147  \n996         None        2.21        19.5      1135  \n997         None        0.47        20.8      1136  \n998         None        1.31        29.5      1137  \n999         None        0.00         9.1      1138  \n\n[1000 rows x 8 columns]",
      "text/html": "<div>\n<style scoped>\n    .dataframe tbody tr th:only-of-type {\n        vertical-align: middle;\n    }\n\n    .dataframe tbody tr th {\n        vertical-align: top;\n    }\n\n    .dataframe thead th {\n        text-align: right;\n    }\n</style>\n<table border=\"1\" class=\"dataframe\">\n  <thead>\n    <tr style=\"text-align: right;\">\n      <th></th>\n      <th>Date</th>\n      <th>Region</th>\n      <th>New_Tests</th>\n      <th>Total_Tests</th>\n      <th>Testing_Rate</th>\n      <th>Positivity</th>\n      <th>Turn_Around</th>\n      <th>ObjectId</th>\n    </tr>\n  </thead>\n  <tbody>\n    <tr>\n      <th>0</th>\n      <td>2020-11-04 08:00:00</td>\n      <td>Fraser</td>\n      <td>5274</td>\n      <td>344141</td>\n      <td>None</td>\n      <td>7.16</td>\n      <td>31</td>\n      <td>1957</td>\n    </tr>\n    <tr>\n      <th>1</th>\n      <td>2020-11-04 08:00:00</td>\n      <td>Interior</td>\n      <td>706</td>\n      <td>96399</td>\n      <td>None</td>\n      <td>1.89</td>\n      <td>24.2</td>\n      <td>1977</td>\n    </tr>\n    <tr>\n      <th>2</th>\n      <td>2020-11-04 08:00:00</td>\n      <td>Northern</td>\n      <td>146</td>\n      <td>29144</td>\n      <td>None</td>\n      <td>2.74</td>\n      <td>29.4</td>\n      <td>1979</td>\n    </tr>\n    <tr>\n      <th>3</th>\n      <td>2020-11-04 08:00:00</td>\n      <td>Unknown</td>\n      <td>160</td>\n      <td>14978</td>\n      <td>None</td>\n      <td>0.00</td>\n      <td>34.5</td>\n      <td>1981</td>\n    </tr>\n    <tr>\n      <th>4</th>\n      <td>2020-11-04 08:00:00</td>\n      <td>Vancouver Coastal</td>\n      <td>3772</td>\n      <td>289836</td>\n      <td>None</td>\n      <td>3.23</td>\n      <td>28.4</td>\n      <td>2001</td>\n    </tr>\n    <tr>\n      <th>...</th>\n      <td>...</td>\n      <td>...</td>\n      <td>...</td>\n      <td>...</td>\n      <td>...</td>\n      <td>...</td>\n      <td>...</td>\n      <td>...</td>\n    </tr>\n    <tr>\n      <th>995</th>\n      <td>2020-05-23 07:00:00</td>\n      <td>Vancouver Island</td>\n      <td>295</td>\n      <td>20165</td>\n      <td>None</td>\n      <td>0.11</td>\n      <td>21.6</td>\n      <td>1147</td>\n    </tr>\n    <tr>\n      <th>996</th>\n      <td>2020-05-22 07:00:00</td>\n      <td>Fraser</td>\n      <td>602</td>\n      <td>48029</td>\n      <td>None</td>\n      <td>2.21</td>\n      <td>19.5</td>\n      <td>1135</td>\n    </tr>\n    <tr>\n      <th>997</th>\n      <td>2020-05-22 07:00:00</td>\n      <td>Interior</td>\n      <td>279</td>\n      <td>18827</td>\n      <td>None</td>\n      <td>0.47</td>\n      <td>20.8</td>\n      <td>1136</td>\n    </tr>\n    <tr>\n      <th>998</th>\n      <td>2020-05-22 07:00:00</td>\n      <td>Northern</td>\n      <td>88</td>\n      <td>5603</td>\n      <td>None</td>\n      <td>1.31</td>\n      <td>29.5</td>\n      <td>1137</td>\n    </tr>\n    <tr>\n      <th>999</th>\n      <td>2020-05-22 07:00:00</td>\n      <td>Unknown</td>\n      <td>21</td>\n      <td>1553</td>\n      <td>None</td>\n      <td>0.00</td>\n      <td>9.1</td>\n      <td>1138</td>\n    </tr>\n  </tbody>\n</table>\n<p>1000 rows × 8 columns</p>\n</div>"
     },
     "metadata": {},
     "output_type": "execute_result",
     "execution_count": 4
    }
   ],
   "source": [
    "params = {\n",
    "    'f': 'json',\n",
    "    'where': \"Region<>'BC'\",\n",
    "    'outFields': '*',\n",
    "    'orderByFields': 'Date desc',\n",
    "    'resultRecordCount': 32000,\n",
    "    'resultOffset': 0\n",
    "}\n",
    "q ='?f=json&where=Region%3C%3E%27BC%27&spatialRel=esriSpatialRelIntersects&outFields=ObjectId%2CNew_Tests%2CDate%2CTotal_Tests%2CRegion%2C&orderByFields=Date%20asc&resultOffset=0&resultRecordCount=32000'\n",
    "NEW_TESTS = 'https://services1.arcgis.com/xeMpV7tU1t4KD3Ei/arcgis/rest/services/BC_COVID19_Lab_Information/FeatureServer/0/query'\n",
    "result = requests.get(NEW_TESTS, params=params)\n",
    "\n",
    "data = result.json()['features']\n",
    "data = [row['attributes'] for row in data]\n",
    "\n",
    "df = pd.DataFrame(data)\n",
    "df['Date'] = pd.to_datetime(df['Date'], unit='ms')\n",
    "# df = df.sort_values(by='Date', ascending=False)\n",
    "df"
   ],
   "metadata": {
    "collapsed": false,
    "pycharm": {
     "name": "#%%\n",
     "is_executing": false
    }
   }
  },
  {
   "cell_type": "markdown",
   "source": [
    "### Case Details (Most Recent 1000)"
   ],
   "metadata": {
    "collapsed": false
   }
  },
  {
   "cell_type": "code",
   "execution_count": 5,
   "outputs": [
    {
     "data": {
      "text/plain": "          Reported_Date                 HA Sex Age_Group  ObjectId\n0   2020-11-05 08:00:00           Northern   F     40-49     16489\n1   2020-11-05 08:00:00           Northern   F     80-89     16490\n2   2020-11-05 08:00:00           Northern   F     20-29     16491\n3   2020-11-05 08:00:00  Vancouver Coastal   U     30-39     16492\n4   2020-11-05 08:00:00  Vancouver Coastal   U     40-49     16493\n..                  ...                ...  ..       ...       ...\n995 2020-11-02 08:00:00             Fraser   M       <10     15930\n996 2020-11-02 08:00:00             Fraser   M     20-29     15931\n997 2020-11-02 08:00:00             Fraser   M     20-29     15932\n998 2020-11-02 08:00:00             Fraser   M     40-49     15933\n999 2020-11-02 08:00:00             Fraser   M     20-29     15934\n\n[1000 rows x 5 columns]",
      "text/html": "<div>\n<style scoped>\n    .dataframe tbody tr th:only-of-type {\n        vertical-align: middle;\n    }\n\n    .dataframe tbody tr th {\n        vertical-align: top;\n    }\n\n    .dataframe thead th {\n        text-align: right;\n    }\n</style>\n<table border=\"1\" class=\"dataframe\">\n  <thead>\n    <tr style=\"text-align: right;\">\n      <th></th>\n      <th>Reported_Date</th>\n      <th>HA</th>\n      <th>Sex</th>\n      <th>Age_Group</th>\n      <th>ObjectId</th>\n    </tr>\n  </thead>\n  <tbody>\n    <tr>\n      <th>0</th>\n      <td>2020-11-05 08:00:00</td>\n      <td>Northern</td>\n      <td>F</td>\n      <td>40-49</td>\n      <td>16489</td>\n    </tr>\n    <tr>\n      <th>1</th>\n      <td>2020-11-05 08:00:00</td>\n      <td>Northern</td>\n      <td>F</td>\n      <td>80-89</td>\n      <td>16490</td>\n    </tr>\n    <tr>\n      <th>2</th>\n      <td>2020-11-05 08:00:00</td>\n      <td>Northern</td>\n      <td>F</td>\n      <td>20-29</td>\n      <td>16491</td>\n    </tr>\n    <tr>\n      <th>3</th>\n      <td>2020-11-05 08:00:00</td>\n      <td>Vancouver Coastal</td>\n      <td>U</td>\n      <td>30-39</td>\n      <td>16492</td>\n    </tr>\n    <tr>\n      <th>4</th>\n      <td>2020-11-05 08:00:00</td>\n      <td>Vancouver Coastal</td>\n      <td>U</td>\n      <td>40-49</td>\n      <td>16493</td>\n    </tr>\n    <tr>\n      <th>...</th>\n      <td>...</td>\n      <td>...</td>\n      <td>...</td>\n      <td>...</td>\n      <td>...</td>\n    </tr>\n    <tr>\n      <th>995</th>\n      <td>2020-11-02 08:00:00</td>\n      <td>Fraser</td>\n      <td>M</td>\n      <td>&lt;10</td>\n      <td>15930</td>\n    </tr>\n    <tr>\n      <th>996</th>\n      <td>2020-11-02 08:00:00</td>\n      <td>Fraser</td>\n      <td>M</td>\n      <td>20-29</td>\n      <td>15931</td>\n    </tr>\n    <tr>\n      <th>997</th>\n      <td>2020-11-02 08:00:00</td>\n      <td>Fraser</td>\n      <td>M</td>\n      <td>20-29</td>\n      <td>15932</td>\n    </tr>\n    <tr>\n      <th>998</th>\n      <td>2020-11-02 08:00:00</td>\n      <td>Fraser</td>\n      <td>M</td>\n      <td>40-49</td>\n      <td>15933</td>\n    </tr>\n    <tr>\n      <th>999</th>\n      <td>2020-11-02 08:00:00</td>\n      <td>Fraser</td>\n      <td>M</td>\n      <td>20-29</td>\n      <td>15934</td>\n    </tr>\n  </tbody>\n</table>\n<p>1000 rows × 5 columns</p>\n</div>"
     },
     "metadata": {},
     "output_type": "execute_result",
     "execution_count": 5
    }
   ],
   "source": [
    "url = 'https://services1.arcgis.com/xeMpV7tU1t4KD3Ei/ArcGIS/rest/services/BC_COVID19_Dashboard_Case_Details_Production/FeatureServer/0/query'\n",
    "params = {\n",
    "    'f': 'json',\n",
    "    'where': \"1=1\",\n",
    "    'outFields': '*',\n",
    "    'orderByFields': 'Reported_Date desc',\n",
    "    'resultRecordCount': 32000,\n",
    "    'resultOffset': 0\n",
    "}\n",
    "result = requests.get(url, params=params)\n",
    "data = result.json()['features']\n",
    "data = [row['attributes'] for row in data]\n",
    "\n",
    "df = pd.DataFrame(data)\n",
    "df['Reported_Date'] = pd.to_datetime(df['Reported_Date'], unit='ms')\n",
    "df"
   ],
   "metadata": {
    "collapsed": false,
    "pycharm": {
     "name": "#%%\n",
     "is_executing": false
    }
   }
  },
  {
   "cell_type": "markdown",
   "source": [
    "COVID Rates"
   ],
   "metadata": {
    "collapsed": false,
    "pycharm": {
     "name": "#%% md\n",
     "is_executing": false
    }
   }
  },
  {
   "cell_type": "code",
   "execution_count": 27,
   "outputs": [
    {
     "data": {
      "text/plain": "[{'attributes': {'FID': 2,\n   'HA_ID': 'FHA',\n   'HA_Name': 'Fraser',\n   'HA_Pop20': 1720066,\n   'Recovered': 7076,\n   'Deaths': 123,\n   'Cases': 9707,\n   'Date_Updat': 1604622600000,\n   'Source': 'BCCDC, B.C. Ministry of Health, PHSA',\n   'URL': None,\n   'GlobalID': '3b1e1b29-f3a8-42f5-914e-d0ee33e34d53',\n   'Shape__Area': 15721774846.5239,\n   'Shape__Length': 749159.184987523,\n   'Hospitalized': 577,\n   'CurrentlyHosp': 56,\n   'EverICU': 0,\n   'CurrentlyICU': 14,\n   'NewCases': 268,\n   'LabCases': 9587,\n   'EpiCases': 120,\n   'ActiveCases': 2420}},\n {'attributes': {'FID': 3,\n   'HA_ID': 'VCHA',\n   'HA_Name': 'Vancouver Coastal',\n   'HA_Pop20': 1131705,\n   'Recovered': 4276,\n   'Deaths': 138,\n   'Cases': 5223,\n   'Date_Updat': 1604622600000,\n   'Source': 'BCCDC, B.C. Ministry of Health, PHSA',\n   'URL': None,\n   'GlobalID': '248e87c0-f5c5-4f29-91dd-8b8b5be29b2c',\n   'Shape__Area': 54811863603.9555,\n   'Shape__Length': 7491881.05552365,\n   'Hospitalized': 372,\n   'CurrentlyHosp': 40,\n   'EverICU': 0,\n   'CurrentlyICU': 9,\n   'NewCases': 126,\n   'LabCases': 5156,\n   'EpiCases': 67,\n   'ActiveCases': 806}},\n {'attributes': {'FID': 1,\n   'HA_ID': 'IHA',\n   'HA_Name': 'Interior',\n   'HA_Pop20': 739989,\n   'Recovered': 714,\n   'Deaths': 3,\n   'Cases': 821,\n   'Date_Updat': 1604622600000,\n   'Source': 'BCCDC, B.C. Ministry of Health, PHSA',\n   'URL': None,\n   'GlobalID': 'b9825972-7c9f-40e5-94fd-35c56588e5de',\n   'Shape__Area': 213501864648.97,\n   'Shape__Length': 2865217.22416581,\n   'Hospitalized': 46,\n   'CurrentlyHosp': 1,\n   'EverICU': 0,\n   'CurrentlyICU': 0,\n   'NewCases': 18,\n   'LabCases': 780,\n   'EpiCases': 41,\n   'ActiveCases': 104}},\n {'attributes': {'FID': 5,\n   'HA_ID': 'NHA',\n   'HA_Name': 'Northern',\n   'HA_Pop20': 279885,\n   'Recovered': 406,\n   'Deaths': 3,\n   'Cases': 438,\n   'Date_Updat': 1604622600000,\n   'Source': 'BCCDC, B.C. Ministry of Health, PHSA',\n   'URL': None,\n   'GlobalID': 'b87ca1f6-bb80-4698-adef-eb518657009f',\n   'Shape__Area': 630450943608.177,\n   'Shape__Length': 11868367.7482869,\n   'Hospitalized': 32,\n   'CurrentlyHosp': 0,\n   'EverICU': 0,\n   'CurrentlyICU': 1,\n   'NewCases': 6,\n   'LabCases': 405,\n   'EpiCases': 33,\n   'ActiveCases': 29}},\n {'attributes': {'FID': 4,\n   'HA_ID': 'VIHA',\n   'HA_Name': 'Vancouver Island',\n   'HA_Pop20': 776410,\n   'Recovered': 249,\n   'Deaths': 6,\n   'Cases': 281,\n   'Date_Updat': 1604622600000,\n   'Source': 'BCCDC, B.C. Ministry of Health, PHSA',\n   'URL': None,\n   'GlobalID': '6570c056-d65a-447b-a032-6ccdbad673bb',\n   'Shape__Area': 55395501277.8047,\n   'Shape__Length': 8865158.03273432,\n   'Hospitalized': 26,\n   'CurrentlyHosp': 0,\n   'EverICU': 0,\n   'CurrentlyICU': 0,\n   'NewCases': 7,\n   'LabCases': 275,\n   'EpiCases': 6,\n   'ActiveCases': 26}},\n {'attributes': {'FID': 6,\n   'HA_ID': None,\n   'HA_Name': 'Out of Canada',\n   'HA_Pop20': None,\n   'Recovered': 85,\n   'Deaths': 0,\n   'Cases': 90,\n   'Date_Updat': 1604622600000,\n   'Source': 'BCCDC, B.C. Ministry of Health, PHSA',\n   'URL': None,\n   'GlobalID': 'ca21891b-790f-429f-92e3-f927b19cab77',\n   'Shape__Area': 172675806.693726,\n   'Shape__Length': 52598.7173549671,\n   'Hospitalized': 6,\n   'CurrentlyHosp': 0,\n   'EverICU': 0,\n   'CurrentlyICU': 0,\n   'NewCases': 0,\n   'LabCases': 89,\n   'EpiCases': 1,\n   'ActiveCases': 4}}]"
     },
     "metadata": {},
     "output_type": "execute_result",
     "execution_count": 27
    }
   ],
   "source": [
    "url = 'https://services1.arcgis.com/xeMpV7tU1t4KD3Ei/ArcGIS/rest/services/COVID19_Cases_by_BC_Health_Authority/FeatureServer/0/query'\n",
    "params = {\n",
    "    'f': 'json',\n",
    "    'where': \"1=1\",\n",
    "    'outFields': '*',\n",
    "    'orderByFields': 'Cases desc',\n",
    "    # 'outStatistics': [{\"statisticType\":\"sum\",\"onStatisticField\":\"NewCases\",\"outStatisticFieldName\":\"value\"}],\n",
    "    'resultRecordCount': 4000,\n",
    "    'resultOffset': 0,\n",
    "    \"returnGeometry\": False,\n",
    "}\n",
    "result = requests.get(url, params=params)\n",
    "result.json()['features']\n",
    "# data = [row['attributes'] for row in data]\n",
    "# \n",
    "# df = pd.DataFrame(data)\n",
    "# df['Reported_Date'] = pd.to_datetime(df['Reported_Date'], unit='ms')\n",
    "# df\n"
   ],
   "metadata": {
    "collapsed": false,
    "pycharm": {
     "name": "#%%\n",
     "is_executing": false
    }
   }
  }
 ],
 "metadata": {
  "kernelspec": {
   "name": "pycharm-545cf202",
   "language": "python",
   "display_name": "PyCharm (cmpt-470-project)"
  },
  "language_info": {
   "codemirror_mode": {
    "name": "ipython",
    "version": 2
   },
   "file_extension": ".py",
   "mimetype": "text/x-python",
   "name": "python",
   "nbconvert_exporter": "python",
   "pygments_lexer": "ipython2",
   "version": "2.7.6"
  },
  "pycharm": {
   "stem_cell": {
    "cell_type": "raw",
    "source": [],
    "metadata": {
     "collapsed": false
    }
   }
  }
 },
 "nbformat": 4,
 "nbformat_minor": 0
}